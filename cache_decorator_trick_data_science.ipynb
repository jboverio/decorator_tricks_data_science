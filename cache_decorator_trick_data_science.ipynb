{
  "nbformat": 4,
  "nbformat_minor": 0,
  "metadata": {
    "colab": {
      "provenance": [],
      "authorship_tag": "ABX9TyMH2N5MkeyBeC8wOx/FVQVu",
      "include_colab_link": true
    },
    "kernelspec": {
      "name": "python3",
      "display_name": "Python 3"
    },
    "language_info": {
      "name": "python"
    }
  },
  "cells": [
    {
      "cell_type": "markdown",
      "metadata": {
        "id": "view-in-github",
        "colab_type": "text"
      },
      "source": [
        "<a href=\"https://colab.research.google.com/github/jboverio/decorator_tricks_data_science/blob/main/cache_decorator_trick_data_science.ipynb\" target=\"_parent\"><img src=\"https://colab.research.google.com/assets/colab-badge.svg\" alt=\"Open In Colab\"/></a>"
      ]
    },
    {
      "cell_type": "code",
      "execution_count": null,
      "metadata": {
        "colab": {
          "base_uri": "https://localhost:8080/"
        },
        "id": "zoTgGvw4EYfv",
        "outputId": "c3560e4e-2b31-43df-8bc0-41e9c8869f67"
      },
      "outputs": [
        {
          "output_type": "stream",
          "name": "stdout",
          "text": [
            "1024\n",
            "1024\n"
          ]
        }
      ],
      "source": [
        "import functools\n",
        "#Cache decorator - Cache the results of a function to avoid recomputing.\n",
        "def cache_decorator(func):\n",
        "    @functools.lru_cache(maxsize=None)\n",
        "    def wrapper(*args, **kwargs):\n",
        "        return func(*args, **kwargs)\n",
        "    return wrapper\n",
        "\n",
        "@cache_decorator\n",
        "def expensive_function(x, y):\n",
        "    return x ** y\n",
        "\n",
        "print(expensive_function(2, 10))  # Cached after first call\n",
        "print(expensive_function(2, 10))  # Uses cached result\n"
      ]
    }
  ]
}