{
  "nbformat": 4,
  "nbformat_minor": 0,
  "metadata": {
    "colab": {
      "provenance": [],
      "authorship_tag": "ABX9TyNpLoo2mUX+8eXKnvM8BcKO",
      "include_colab_link": true
    },
    "kernelspec": {
      "name": "python3",
      "display_name": "Python 3"
    },
    "language_info": {
      "name": "python"
    }
  },
  "cells": [
    {
      "cell_type": "markdown",
      "metadata": {
        "id": "view-in-github",
        "colab_type": "text"
      },
      "source": [
        "<a href=\"https://colab.research.google.com/github/jboverio/decorator_tricks_data_science/blob/main/beep_decorator_sound.ipynb\" target=\"_parent\"><img src=\"https://colab.research.google.com/assets/colab-badge.svg\" alt=\"Open In Colab\"/></a>"
      ]
    },
    {
      "cell_type": "code",
      "execution_count": 2,
      "metadata": {
        "colab": {
          "base_uri": "https://localhost:8080/"
        },
        "id": "1I5KWnLBJxNb",
        "outputId": "3a95bb92-e9ad-403f-bd5f-cb84cf9c8417"
      },
      "outputs": [
        {
          "output_type": "stream",
          "name": "stdout",
          "text": [
            "Function is running...\n",
            "Function finished running.\n"
          ]
        }
      ],
      "source": [
        "#This code sends a beep sound when your python function finishes running (doesn't work on colab, only locally)\n",
        "import os\n",
        "import platform\n",
        "import time\n",
        "from functools import wraps\n",
        "\n",
        "def beep_decorator(func):\n",
        "    @wraps(func)\n",
        "    def wrapper(*args, **kwargs):\n",
        "        result = func(*args, **kwargs)\n",
        "\n",
        "        # Play beep sound\n",
        "        if platform.system() == 'Windows':\n",
        "            import winsound\n",
        "            frequency = 2500\n",
        "            duration = 1000\n",
        "            winsound.Beep(frequency, duration)\n",
        "        else:\n",
        "            # Unix-based systems\n",
        "            duration = 1\n",
        "            freq = 440\n",
        "            os.system(f'play -nq -t alsa synth {duration} sine {freq}')\n",
        "\n",
        "        return result\n",
        "\n",
        "    return wrapper\n",
        "\n",
        "@beep_decorator\n",
        "def test_function():\n",
        "    print(\"Function is running...\")\n",
        "    time.sleep(3)\n",
        "    print(\"Function finished running.\")\n",
        "\n",
        "if __name__ == \"__main__\":\n",
        "    test_function()\n"
      ]
    }
  ]
}