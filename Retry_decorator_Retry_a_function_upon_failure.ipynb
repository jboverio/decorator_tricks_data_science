{
  "nbformat": 4,
  "nbformat_minor": 0,
  "metadata": {
    "colab": {
      "provenance": [],
      "authorship_tag": "ABX9TyN73OWXZO0v1O9T2GmPvLby",
      "include_colab_link": true
    },
    "kernelspec": {
      "name": "python3",
      "display_name": "Python 3"
    },
    "language_info": {
      "name": "python"
    }
  },
  "cells": [
    {
      "cell_type": "markdown",
      "metadata": {
        "id": "view-in-github",
        "colab_type": "text"
      },
      "source": [
        "<a href=\"https://colab.research.google.com/github/jboverio/decorator_tricks_data_science/blob/main/Retry_decorator_Retry_a_function_upon_failure.ipynb\" target=\"_parent\"><img src=\"https://colab.research.google.com/assets/colab-badge.svg\" alt=\"Open In Colab\"/></a>"
      ]
    },
    {
      "cell_type": "code",
      "execution_count": 1,
      "metadata": {
        "colab": {
          "base_uri": "https://localhost:8080/"
        },
        "id": "2kPLz8X6HHxz",
        "outputId": "ca6c19e1-786f-48ca-e9d0-e6d4cff47a94"
      },
      "outputs": [
        {
          "output_type": "stream",
          "name": "stdout",
          "text": [
            "Attempt 1 failed with error: Function failed.. Retrying...\n",
            "Attempt 2 failed with error: Function failed.. Retrying...\n",
            "Attempt 3 failed with error: Function failed.. Retrying...\n",
            "Attempt 4 failed with error: Function failed.. Retrying...\n",
            "Success\n"
          ]
        }
      ],
      "source": [
        "import time\n",
        "import random\n",
        "#Retry decorator - Retry a function upon failure\n",
        "def retry_decorator(retries=3, delay=1):\n",
        "    def decorator(func):\n",
        "        def wrapper(*args, **kwargs):\n",
        "            for i in range(retries):\n",
        "                try:\n",
        "                    return func(*args, **kwargs)\n",
        "                except Exception as e:\n",
        "                    print(f\"Attempt {i + 1} failed with error: {e}. Retrying...\")\n",
        "                    time.sleep(delay)\n",
        "            raise Exception(\"Max retries reached.\")\n",
        "        return wrapper\n",
        "    return decorator\n",
        "\n",
        "@retry_decorator(retries=5, delay=2)\n",
        "def unreliable_function():\n",
        "    if random.random() < 0.8:\n",
        "        raise ValueError(\"Function failed.\")\n",
        "    return \"Success\"\n",
        "\n",
        "print(unreliable_function())\n"
      ]
    }
  ]
}