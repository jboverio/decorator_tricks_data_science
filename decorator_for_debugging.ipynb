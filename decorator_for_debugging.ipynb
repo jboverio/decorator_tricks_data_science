{
  "nbformat": 4,
  "nbformat_minor": 0,
  "metadata": {
    "colab": {
      "provenance": [],
      "authorship_tag": "ABX9TyPlBjitwkC8TojtRCMvzSRM",
      "include_colab_link": true
    },
    "kernelspec": {
      "name": "python3",
      "display_name": "Python 3"
    },
    "language_info": {
      "name": "python"
    }
  },
  "cells": [
    {
      "cell_type": "markdown",
      "metadata": {
        "id": "view-in-github",
        "colab_type": "text"
      },
      "source": [
        "<a href=\"https://colab.research.google.com/github/jboverio/decorator_tricks_data_science/blob/main/decorator_for_debugging.ipynb\" target=\"_parent\"><img src=\"https://colab.research.google.com/assets/colab-badge.svg\" alt=\"Open In Colab\"/></a>"
      ]
    },
    {
      "cell_type": "code",
      "execution_count": 1,
      "metadata": {
        "colab": {
          "base_uri": "https://localhost:8080/"
        },
        "id": "g_flLZlXF98E",
        "outputId": "417903d6-c5c7-4b22-c8b4-5e8d4672c4ff"
      },
      "outputs": [
        {
          "output_type": "stream",
          "name": "stdout",
          "text": [
            "sum_function((3, 4), {}) -> 7\n",
            "7\n"
          ]
        }
      ],
      "source": [
        "#Debug decorator - Print function input and output for debugging.\n",
        "#Check if output makes sense based on the input\n",
        "def debug_decorator(func):\n",
        "    def wrapper(*args, **kwargs):\n",
        "        result = func(*args, **kwargs)\n",
        "        print(f\"{func.__name__}({args}, {kwargs}) -> {result}\")\n",
        "        return result\n",
        "    return wrapper\n",
        "\n",
        "@debug_decorator\n",
        "def sum_function(a, b):\n",
        "    return a + b\n",
        "\n",
        "print(sum_function(3, 4))\n"
      ]
    }
  ]
}